{
 "cells": [
  {
   "cell_type": "code",
   "execution_count": null,
   "metadata": {},
   "outputs": [],
   "source": [
    "# Imports\n",
    "import cv2\n",
    "import numpy as np\n",
    "import matplotlib.pyplot as plt\n",
    "\n",
    "%matplotlib inline"
   ]
  },
  {
   "cell_type": "code",
   "execution_count": null,
   "metadata": {},
   "outputs": [],
   "source": [
    "# Read grayscale image\n",
    "img = cv2.imread('digit.png', cv2.IMREAD_GRAYSCALE)\n",
    "img = img.astype(np.float)/255\n",
    "plt.imshow(img, cmap='gray_r')"
   ]
  },
  {
   "cell_type": "code",
   "execution_count": null,
   "metadata": {},
   "outputs": [],
   "source": [
    "# Convert to binary with thresholding\n",
    "_, img = cv2.threshold(img, 0.5, 1, cv2.THRESH_BINARY)\n",
    "plt.figure()\n",
    "plt.imshow(img, cmap='gray_r') # gray_r colormap shows 1 as black"
   ]
  },
  {
   "cell_type": "code",
   "execution_count": null,
   "metadata": {},
   "outputs": [],
   "source": [
    "# Create morphological kernel\n",
    "kern = np.array([\n",
    "    [0,1,0],\n",
    "    [1,1,1],\n",
    "    [0,1,0]\n",
    "], dtype=np.uint8)\n",
    "\n",
    "# Perform dilation\n",
    "dilated_img = cv2.dilate(img, kern)\n",
    "plt.imshow(dilated_img, cmap='gray_r') # gray_r colormap shows 1 as black"
   ]
  },
  {
   "cell_type": "code",
   "execution_count": null,
   "metadata": {},
   "outputs": [],
   "source": [
    "# Erosion\n",
    "eroded_img = cv2.erode(img, kern)\n",
    "plt.imshow(eroded_img, cmap='gray_r') # gray_r colormap shows 1 as black"
   ]
  },
  {
   "cell_type": "code",
   "execution_count": null,
   "metadata": {},
   "outputs": [],
   "source": [
    "# Opening\n",
    "opened_img = cv2.morphologyEx(img, cv2.MORPH_OPEN, kern)\n",
    "plt.imshow(opened_img, cmap='gray_r') # gray_r colormap shows 1 as black"
   ]
  },
  {
   "cell_type": "code",
   "execution_count": null,
   "metadata": {},
   "outputs": [],
   "source": [
    "# Read colored image\n",
    "img = cv2.imread('baboon.png')\n",
    "print(\"Resolution: \", img.shape)\n",
    "print(\"Range: %d - %d \" % (img.min(), img.max()))\n",
    "\n",
    "# Show image\n",
    "plt.figure()\n",
    "plt.imshow(img)\n",
    "\n",
    "# Convert from BGR to RGB\n",
    "img = cv2.cvtColor(img, cv2.COLOR_BGR2RGB)\n",
    "\n",
    "# Show image\n",
    "plt.figure()\n",
    "plt.imshow(img)"
   ]
  },
  {
   "cell_type": "code",
   "execution_count": null,
   "metadata": {},
   "outputs": [],
   "source": [
    "# Convert from rgb to grayscale\n",
    "img_gray = cv2.cvtColor(img, cv2.COLOR_RGB2GRAY)\n",
    "\n",
    "# Convert to float and scale from 0 to 1\n",
    "img_gray = img_gray.astype(np.float)/255"
   ]
  },
  {
   "cell_type": "code",
   "execution_count": null,
   "metadata": {},
   "outputs": [],
   "source": [
    "sigma = 2\n",
    "n = int(2*np.ceil(3*sigma)+1)\n",
    "gauss1D = cv2.getGaussianKernel(n, sigma) # Column vector\n",
    "gauss2D = gauss1D @ gauss1D.T # Symmetric gaussian kernel\n",
    "img_smooth = cv2.filter2D(img_gray, -1, gauss2D)\n",
    "print(gauss1D.shape, gauss1D.T.shape, gauss2D.shape)"
   ]
  },
  {
   "cell_type": "code",
   "execution_count": null,
   "metadata": {},
   "outputs": [],
   "source": [
    "sigma = 4\n",
    "n = int(2*np.ceil(3*sigma)+1)\n",
    "gauss1D = cv2.getGaussianKernel(n, sigma) # Column vector\n",
    "gauss2D = gauss1D @ gauss1D.T # Symmetric gaussian kernel\n",
    "img_smooth_2 = cv2.filter2D(img_gray, -1, gauss2D)"
   ]
  },
  {
   "cell_type": "code",
   "execution_count": null,
   "metadata": {},
   "outputs": [],
   "source": [
    "fig, ax = plt.subplots(1, 3, figsize = (10,40))\n",
    "ax[0].imshow(img_gray, cmap='gray')\n",
    "ax[1].imshow(img_smooth, cmap='gray')\n",
    "ax[2].imshow(img_smooth_2, cmap='gray')"
   ]
  },
  {
   "cell_type": "code",
   "execution_count": null,
   "metadata": {},
   "outputs": [],
   "source": []
  }
 ],
 "metadata": {
  "kernelspec": {
   "display_name": "Python 3",
   "language": "python",
   "name": "python3"
  },
  "language_info": {
   "codemirror_mode": {
    "name": "ipython",
    "version": 3
   },
   "file_extension": ".py",
   "mimetype": "text/x-python",
   "name": "python",
   "nbconvert_exporter": "python",
   "pygments_lexer": "ipython3",
   "version": "3.7.7"
  }
 },
 "nbformat": 4,
 "nbformat_minor": 2
}
